{
 "cells": [
  {
   "cell_type": "code",
   "execution_count": 1,
   "metadata": {},
   "outputs": [],
   "source": [
    "import json"
   ]
  },
  {
   "cell_type": "code",
   "execution_count": 22,
   "metadata": {},
   "outputs": [],
   "source": [
    "with open(\"cifar100_sigma0_repeat1_init100_seed1.json\", \"r\") as f:\n",
    "    inputs = json.load(f)\n",
    "\n"
   ]
  },
  {
   "cell_type": "code",
   "execution_count": 31,
   "metadata": {},
   "outputs": [],
   "source": [
    "outputs = {}\n",
    "outputs['cls_dict'] = inputs['cls_dict']\n",
    "outputs['cls_addition'] = inputs['cls_addition']\n",
    "outputs['stream'] = []\n",
    "\n",
    "sample_per_cls = 10\n",
    "cls_counter = [0] * 100\n",
    "for stream in inputs['stream']:\n",
    "    if cls_counter[outputs['cls_dict'][stream['klass']]] < sample_per_cls:\n",
    "        cls_counter[outputs['cls_dict'][stream['klass']]] += 1\n",
    "        outputs['stream'].append(stream)\n"
   ]
  },
  {
   "cell_type": "code",
   "execution_count": 32,
   "metadata": {},
   "outputs": [],
   "source": [
    "len(outputs['stream'])\n",
    "with open(f'./debug_{sample_per_cls * 100}.json', 'w') as f:\n",
    "    json.dump(outputs, f)"
   ]
  }
 ],
 "metadata": {
  "kernelspec": {
   "display_name": "wj",
   "language": "python",
   "name": "python3"
  },
  "language_info": {
   "codemirror_mode": {
    "name": "ipython",
    "version": 3
   },
   "file_extension": ".py",
   "mimetype": "text/x-python",
   "name": "python",
   "nbconvert_exporter": "python",
   "pygments_lexer": "ipython3",
   "version": "3.11.3"
  },
  "orig_nbformat": 4
 },
 "nbformat": 4,
 "nbformat_minor": 2
}
